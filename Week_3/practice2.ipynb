{
 "cells": [
  {
   "cell_type": "code",
   "execution_count": 1,
   "id": "61c00bd5-13d0-46f8-bc1b-ec4a74152e58",
   "metadata": {},
   "outputs": [
    {
     "name": "stdin",
     "output_type": "stream",
     "text": [
      "Enter mass in kilogram:  9\n"
     ]
    },
    {
     "name": "stdout",
     "output_type": "stream",
     "text": [
      "The energy equivalent to (m) kg of mass is 8.088796608631359e+17 joules. \n"
     ]
    }
   ],
   "source": [
    "# Input from user\n",
    "m = float(input(\"Enter mass in kilogram: \"))\n",
    "\n",
    "# Constant value for the speed of light in m/s\n",
    "c = 299792458\n",
    "\n",
    "# Calculating energy using einstein equation\n",
    "energy = m *  c ** 2\n",
    "\n",
    "# Displaying the result\n",
    "print(f\"The energy equivalent to (m) kg of mass is {energy} joules. \")\n"
   ]
  },
  {
   "cell_type": "code",
   "execution_count": null,
   "id": "dfaa6b71-89ea-43a4-a231-dc228de4263d",
   "metadata": {},
   "outputs": [],
   "source": []
  }
 ],
 "metadata": {
  "kernelspec": {
   "display_name": "Python 3 (ipykernel)",
   "language": "python",
   "name": "python3"
  },
  "language_info": {
   "codemirror_mode": {
    "name": "ipython",
    "version": 3
   },
   "file_extension": ".py",
   "mimetype": "text/x-python",
   "name": "python",
   "nbconvert_exporter": "python",
   "pygments_lexer": "ipython3",
   "version": "3.9.7"
  }
 },
 "nbformat": 4,
 "nbformat_minor": 5
}
