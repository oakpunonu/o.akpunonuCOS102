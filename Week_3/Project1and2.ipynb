{
 "cells": [
  {
   "cell_type": "code",
   "execution_count": 1,
   "id": "14f489b7-eea5-4b3b-aa43-dc4c243a3cbf",
   "metadata": {},
   "outputs": [
    {
     "ename": "SyntaxError",
     "evalue": "invalid syntax (3787430816.py, line 4)",
     "output_type": "error",
     "traceback": [
      "\u001b[0;36m  File \u001b[0;32m\"/var/folders/rf/fjqrvbqn5vsc5zz3hbhvn02h0000gq/T/ipykernel_89821/3787430816.py\"\u001b[0;36m, line \u001b[0;32m4\u001b[0m\n\u001b[0;31m    Input goods on a cash tab\u001b[0m\n\u001b[0m          ^\u001b[0m\n\u001b[0;31mSyntaxError\u001b[0m\u001b[0;31m:\u001b[0m invalid syntax\n"
     ]
    }
   ],
   "source": [
    "# Algorithm for store checkout\n",
    "\n",
    "START\n",
    "Input goods on a cash tab\n",
    "COMPUTE total prices of the goods\n",
    "IF any more goods left add them\n",
    "ENTER total price\n",
    "IF payment is succesful\n",
    "PRINT \"your payment is succsesful\"\n",
    "IF payment is not succseful\n",
    "PRINT \"TRANSACTION FAILED\"\n",
    "END"
   ]
  },
  {
   "cell_type": "code",
   "execution_count": 3,
   "id": "e6f5db3e-aad3-4d3a-9609-a0ebd0f9579b",
   "metadata": {},
   "outputs": [
    {
     "ename": "SyntaxError",
     "evalue": "invalid syntax (3965320140.py, line 3)",
     "output_type": "error",
     "traceback": [
      "\u001b[0;36m  File \u001b[0;32m\"/var/folders/rf/fjqrvbqn5vsc5zz3hbhvn02h0000gq/T/ipykernel_89821/3965320140.py\"\u001b[0;36m, line \u001b[0;32m3\u001b[0m\n\u001b[0;31m    PRINT \"WELCOME\" | Kindly put in your name and age\u001b[0m\n\u001b[0m          ^\u001b[0m\n\u001b[0;31mSyntaxError\u001b[0m\u001b[0;31m:\u001b[0m invalid syntax\n"
     ]
    }
   ],
   "source": [
    "# ALGORITHM WHERE 2 USERS INPUT NAME AND AGE SWITCH AGES\n",
    "START\n",
    "PRINT \"WELCOME\" | Kindly put in your name and age\n",
    "INPUT n1 as the name of user 1\n",
    "INPUT n2 as the name of user 2\n",
    "INPUT a1 as the age of user 1\n",
    "INPUT a2 as the age of user 2\n",
    "PRINT n1 , a2 (as name and age of user 1)\n",
    "PRINT n2 , a1 (as name and age of user 2)\n",
    "END"
   ]
  },
  {
   "cell_type": "code",
   "execution_count": 6,
   "id": "5879ccbf-c730-452e-aa25-19b4902dde9e",
   "metadata": {},
   "outputs": [
    {
     "name": "stdin",
     "output_type": "stream",
     "text": [
      "Enter value of a 3\n",
      "Enter value of b 6\n",
      "Enter value of c 8\n"
     ]
    },
    {
     "ename": "NameError",
     "evalue": "name 'PRINT' is not defined",
     "output_type": "error",
     "traceback": [
      "\u001b[0;31m---------------------------------------------------------------------------\u001b[0m",
      "\u001b[0;31mNameError\u001b[0m                                 Traceback (most recent call last)",
      "\u001b[0;32m/var/folders/rf/fjqrvbqn5vsc5zz3hbhvn02h0000gq/T/ipykernel_89821/3815808490.py\u001b[0m in \u001b[0;36m<module>\u001b[0;34m\u001b[0m\n\u001b[1;32m      6\u001b[0m \u001b[0mr1\u001b[0m \u001b[0;34m=\u001b[0m \u001b[0;34m(\u001b[0m\u001b[0;34m-\u001b[0m\u001b[0mb\u001b[0m \u001b[0;34m+\u001b[0m \u001b[0mD\u001b[0m\u001b[0;34m)\u001b[0m\u001b[0;34m/\u001b[0m \u001b[0;36m2\u001b[0m\u001b[0;34m*\u001b[0m\u001b[0ma\u001b[0m\u001b[0;34m\u001b[0m\u001b[0;34m\u001b[0m\u001b[0m\n\u001b[1;32m      7\u001b[0m \u001b[0mr2\u001b[0m \u001b[0;34m=\u001b[0m \u001b[0;34m(\u001b[0m\u001b[0;34m-\u001b[0m\u001b[0mb\u001b[0m \u001b[0;34m-\u001b[0m \u001b[0mD\u001b[0m\u001b[0;34m)\u001b[0m\u001b[0;34m/\u001b[0m \u001b[0;36m2\u001b[0m\u001b[0;34m*\u001b[0m\u001b[0ma\u001b[0m\u001b[0;34m\u001b[0m\u001b[0;34m\u001b[0m\u001b[0m\n\u001b[0;32m----> 8\u001b[0;31m \u001b[0mPRINT\u001b[0m\u001b[0;34m(\u001b[0m\u001b[0;34mf\"The values of the quadratic equation is\"\u001b[0m\u001b[0;34m,\u001b[0m\u001b[0mr1\u001b[0m\u001b[0;34m)\u001b[0m\u001b[0;34m\u001b[0m\u001b[0;34m\u001b[0m\u001b[0m\n\u001b[0m\u001b[1;32m      9\u001b[0m \u001b[0mPRINT\u001b[0m\u001b[0;34m(\u001b[0m\u001b[0;34mf\"The values of the quadratic equation is\"\u001b[0m\u001b[0;34m,\u001b[0m\u001b[0mr2\u001b[0m\u001b[0;34m)\u001b[0m\u001b[0;34m\u001b[0m\u001b[0;34m\u001b[0m\u001b[0m\n",
      "\u001b[0;31mNameError\u001b[0m: name 'PRINT' is not defined"
     ]
    }
   ],
   "source": [
    "#Finding roots of a quadratic equation\n",
    "a = float(input(\"Enter value of a\"))\n",
    "b = float(input(\"Enter value of b\"))\n",
    "c = float(input(\"Enter value of c\"))\n",
    "D = (b**2 -4*a*c)**0.5\n",
    "r1 = (-b + D)/ 2*a\n",
    "r2 = (-b - D)/ 2*a\n",
    "PRINT(f\"The values of the quadratic equation is\",r1)\n",
    "PRINT(f\"The values of the quadratic equation is\",r2)"
   ]
  },
  {
   "cell_type": "code",
   "execution_count": null,
   "id": "096913a5-694f-40e2-880d-cc105c8e827e",
   "metadata": {},
   "outputs": [],
   "source": [
    "# Finding the roots of a quadratic equation\n",
    "INPUT a\n",
    "INPUT b\n",
    "INPUT c\n",
    "COMPUTE D = (b**2 -4*a*c)**0.5\n",
    "COMPUTE r1 = (-b + D)/ 2*a\n",
    "COMPUTE r2 = (-b - D)/ 2*a\n",
    "PRINT r1\n",
    "PRINT r2\n",
    "END"
   ]
  }
 ],
 "metadata": {
  "kernelspec": {
   "display_name": "Python 3 (ipykernel)",
   "language": "python",
   "name": "python3"
  },
  "language_info": {
   "codemirror_mode": {
    "name": "ipython",
    "version": 3
   },
   "file_extension": ".py",
   "mimetype": "text/x-python",
   "name": "python",
   "nbconvert_exporter": "python",
   "pygments_lexer": "ipython3",
   "version": "3.9.7"
  }
 },
 "nbformat": 4,
 "nbformat_minor": 5
}
