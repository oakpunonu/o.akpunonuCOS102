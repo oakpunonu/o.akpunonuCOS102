{
 "cells": [
  {
   "cell_type": "code",
   "execution_count": 5,
   "id": "bf36c330-371a-4922-9387-0e8c56934002",
   "metadata": {},
   "outputs": [
    {
     "name": "stdout",
     "output_type": "stream",
     "text": [
      "['Anaconda', 786, 2.33, 'Jupyter', 70.2]\n",
      "Anaconda\n",
      "[786, 2.33]\n",
      "[2.33, 'Jupyter', 70.2]\n",
      "[321, 'Python', 321, 'Python']\n",
      "['Anaconda', 786, 2.33, 'Jupyter', 70.2, 321, 'Python']\n"
     ]
    }
   ],
   "source": [
    "list = [ 'Anaconda', 786, 2.33, 'Jupyter', 70.2 ]\n",
    "shortlist = [321, 'Python']\n",
    "\n",
    "print(list)             #Prints complete list \n",
    "print(list[0])          # Prints first elements of the list\n",
    "print(list[1:3])        # Prints elements starting from 2nd till 3rd\n",
    "print(list[2:])         #Prints elements starting from 3rd element\n",
    "print(shortlist * 2)    # Prints list two times\n",
    "print(list + shortlist) # Prints conctenated lists"
   ]
  },
  {
   "cell_type": "code",
   "execution_count": null,
   "id": "32e7dba6-c5b6-477f-8730-a4b0d5313aef",
   "metadata": {},
   "outputs": [],
   "source": []
  }
 ],
 "metadata": {
  "kernelspec": {
   "display_name": "Python 3 (ipykernel)",
   "language": "python",
   "name": "python3"
  },
  "language_info": {
   "codemirror_mode": {
    "name": "ipython",
    "version": 3
   },
   "file_extension": ".py",
   "mimetype": "text/x-python",
   "name": "python",
   "nbconvert_exporter": "python",
   "pygments_lexer": "ipython3",
   "version": "3.9.7"
  }
 },
 "nbformat": 4,
 "nbformat_minor": 5
}
