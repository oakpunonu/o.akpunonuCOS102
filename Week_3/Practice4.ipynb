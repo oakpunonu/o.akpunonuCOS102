{
 "cells": [
  {
   "cell_type": "code",
   "execution_count": 2,
   "id": "41a10a5b-3b50-45c1-b54c-9bbc311a0992",
   "metadata": {},
   "outputs": [
    {
     "ename": "SyntaxError",
     "evalue": "invalid syntax (1581434006.py, line 17)",
     "output_type": "error",
     "traceback": [
      "\u001b[0;36m  File \u001b[0;32m\"/var/folders/rf/fjqrvbqn5vsc5zz3hbhvn02h0000gq/T/ipykernel_52041/1581434006.py\"\u001b[0;36m, line \u001b[0;32m17\u001b[0m\n\u001b[0;31m    print (s_tuple * 3)\u001b[0m\n\u001b[0m    ^\u001b[0m\n\u001b[0;31mSyntaxError\u001b[0m\u001b[0;31m:\u001b[0m invalid syntax\n"
     ]
    }
   ],
   "source": [
    "tuple = (\"Ekiti\", 700, \"Oshogbo\", 300, \"Akure\", 320)\n",
    "s_tuple = (\"Abeokuta\", 300, \"Ogbomoso\")\n",
    "\n",
    "# Prints the complete tuple\n",
    "print(tuple)\n",
    "\n",
    "# prints the last elements of the tuple\n",
    "print(tuple[-1])\n",
    "\n",
    "# prints elementsof the tuple stating from 2nd to 3rd\n",
    "print (tuple[2:4])\n",
    "\n",
    "# Prints elements of the tuple starting from 3rd element\n",
    "print (tuple[3:]\n",
    "\n",
    "# Prints the contents of the tuple twice\n",
    "print (s_tuple * 3)\n",
    "\n",
    "#Prints concatenated tuples\n",
    "print (tuple + s_tuple)\n"
   ]
  },
  {
   "cell_type": "code",
   "execution_count": null,
   "id": "cf4ec857-7bca-4fdb-9899-bf08976821a6",
   "metadata": {},
   "outputs": [],
   "source": []
  }
 ],
 "metadata": {
  "kernelspec": {
   "display_name": "Python 3 (ipykernel)",
   "language": "python",
   "name": "python3"
  },
  "language_info": {
   "codemirror_mode": {
    "name": "ipython",
    "version": 3
   },
   "file_extension": ".py",
   "mimetype": "text/x-python",
   "name": "python",
   "nbconvert_exporter": "python",
   "pygments_lexer": "ipython3",
   "version": "3.9.7"
  }
 },
 "nbformat": 4,
 "nbformat_minor": 5
}
