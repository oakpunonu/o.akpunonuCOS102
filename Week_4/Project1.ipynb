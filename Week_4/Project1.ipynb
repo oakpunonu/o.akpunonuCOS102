{
 "cells": [
  {
   "cell_type": "code",
   "execution_count": null,
   "id": "c47273ab-6c38-4d99-ba29-6aef2458b71a",
   "metadata": {},
   "outputs": [],
   "source": [
    "# Python program to represent given data in a tabular form\n"
   ]
  },
  {
   "cell_type": "code",
   "execution_count": 1,
   "id": "95e3373f-c9b0-4ce0-bc1e-c0a7488ad581",
   "metadata": {},
   "outputs": [
    {
     "name": "stdout",
     "output_type": "stream",
     "text": [
      "WELCOME TO IFFITH TECHNOLOGY\n"
     ]
    },
    {
     "name": "stdin",
     "output_type": "stream",
     "text": [
      "Enter your number of years of experience :  20\n",
      "Enter your age :  48\n"
     ]
    },
    {
     "name": "stdout",
     "output_type": "stream",
     "text": [
      "Your ATR is N1500000\n"
     ]
    }
   ],
   "source": [
    "print(\"WELCOME TO IFFITH TECHNOLOGY\")\n",
    "years = float(input('Enter your number of years of experience : '))\n",
    "age = float(input('Enter your age : '))\n",
    "\n",
    "if years > 25 and age >= 55:\n",
    "    print('Your ATR is N5600000')\n",
    "elif years > 20 and age >= 45:\n",
    "    print('Your ATR is N4400000')\n",
    "elif years > 10 and age >= 35:\n",
    "    print('Your ATR is N1500000')\n",
    "elif years < 10 and age < 34:\n",
    "    print('Your ATR is N5500000')"
   ]
  },
  {
   "cell_type": "code",
   "execution_count": null,
   "id": "7fbdfbbf-1fcb-462f-926b-c33e12e89927",
   "metadata": {},
   "outputs": [],
   "source": []
  }
 ],
 "metadata": {
  "kernelspec": {
   "display_name": "Python 3 (ipykernel)",
   "language": "python",
   "name": "python3"
  },
  "language_info": {
   "codemirror_mode": {
    "name": "ipython",
    "version": 3
   },
   "file_extension": ".py",
   "mimetype": "text/x-python",
   "name": "python",
   "nbconvert_exporter": "python",
   "pygments_lexer": "ipython3",
   "version": "3.9.7"
  }
 },
 "nbformat": 4,
 "nbformat_minor": 5
}
