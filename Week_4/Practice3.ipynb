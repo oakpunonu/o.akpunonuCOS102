{
 "cells": [
  {
   "cell_type": "code",
   "execution_count": 3,
   "id": "e4345573-4781-4e6b-9a5a-6bb5eabff2f3",
   "metadata": {},
   "outputs": [
    {
     "name": "stdout",
     "output_type": "stream",
     "text": [
      "Welcome to the COUPE DE ESCRIVA 2023: FOOTBALL PICKS \n",
      "\n",
      "Madiba:  Chubby obiora okafo\n",
      "\n",
      "\n",
      "blue jays :  Christopher Uweh\n",
      "\n",
      "\n",
      "Cirok:  Alexander\n",
      "\n",
      "\n",
      "TSG Walkers:  Ikechukwu\n",
      "\n",
      "\n",
      "Madiba:  Chubby obiora okafo\n",
      "blue jays:  Oladimeji abaiwodea/jeffery agwu\n",
      "Cirok:  Timilehin Pearse/Izuako jeremy\n",
      "TSG Walkers:  Ayomide Ojitiku\n"
     ]
    }
   ],
   "source": [
    "# COUPE DE ESCRIVA 2023 : FOOTBALL PICKS\n",
    "\n",
    "print(\"Welcome to the COUPE DE ESCRIVA 2023: FOOTBALL PICKS \\n\")\n",
    "\n",
    "captain ={'Madiba: ' : 'Chubby obiora okafo', 'blue jays : ' : 'Christopher Uweh',\n",
    "          'Cirok: ': 'Alexander', 'TSG Walkers: ' : 'Ikechukwu'}\n",
    "\n",
    "goalkeepers ={'Madiba: ' : 'Chubby obiora okafo',\n",
    "              'blue jays: ' : 'Oladimeji abaiwodea/jeffery agwu',\n",
    "              'Cirok: ': 'Timilehin Pearse/Izuako jeremy' ,\n",
    "              'TSG Walkers: ' : 'Ayomide Ojitiku'}\n",
    "\n",
    "for pick in captain:\n",
    "    print(pick, captain[pick])\n",
    "    \n",
    "    print(\"\\n\")\n",
    "    \n",
    "for pick in goalkeepers:\n",
    "    print(pick, goalkeepers[pick])"
   ]
  },
  {
   "cell_type": "code",
   "execution_count": null,
   "id": "d9545cd3-0eae-4f2b-8e13-d76221177f36",
   "metadata": {},
   "outputs": [],
   "source": []
  }
 ],
 "metadata": {
  "kernelspec": {
   "display_name": "Python 3 (ipykernel)",
   "language": "python",
   "name": "python3"
  },
  "language_info": {
   "codemirror_mode": {
    "name": "ipython",
    "version": 3
   },
   "file_extension": ".py",
   "mimetype": "text/x-python",
   "name": "python",
   "nbconvert_exporter": "python",
   "pygments_lexer": "ipython3",
   "version": "3.9.7"
  }
 },
 "nbformat": 4,
 "nbformat_minor": 5
}
