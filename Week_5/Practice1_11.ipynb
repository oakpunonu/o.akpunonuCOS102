{
 "cells": [
  {
   "cell_type": "code",
   "execution_count": 1,
   "id": "88529345-31e8-4549-ad2a-5d1fd3764b77",
   "metadata": {},
   "outputs": [
    {
     "name": "stdout",
     "output_type": "stream",
     "text": [
      "I am first call to use defined function!\n",
      "Again second call to the same function\n"
     ]
    }
   ],
   "source": [
    "#1\n",
    "def printme( str ):\n",
    "    #This is a print function\n",
    "    print (str);\n",
    "    return;\n",
    "  \n",
    "printme(\"I am first call to use defined function!\");\n",
    "printme(\"Again second call to the same function\");"
   ]
  },
  {
   "cell_type": "code",
   "execution_count": 4,
   "id": "ca1b1ef9-0842-4a35-b5d5-7c777f2880c1",
   "metadata": {},
   "outputs": [
    {
     "name": "stdout",
     "output_type": "stream",
     "text": [
      "Values inside the function:  [10, 20, 30, [1, 2, 3, 4]]\n",
      "Values outside the function:  [10, 20, 30, [1, 2, 3, 4]]\n"
     ]
    }
   ],
   "source": [
    "#2\n",
    "def changeme( mylist ):\n",
    "    #This changes a passed list\n",
    "    mylist.append([1,2,3,4])\n",
    "    print (\"Values inside the function: \", mylist)\n",
    "    return\n",
    "mylist = [10,20,30]\n",
    "changeme( mylist )\n",
    "print (\"Values outside the function: \", mylist)"
   ]
  },
  {
   "cell_type": "code",
   "execution_count": 5,
   "id": "93f6e02d-5061-49da-a7bb-6b0846d9b726",
   "metadata": {},
   "outputs": [
    {
     "name": "stdout",
     "output_type": "stream",
     "text": [
      "Values inside the function:  [1, 2, 3, 4]\n",
      "Values outside the function:  [10, 20, 30]\n"
     ]
    }
   ],
   "source": [
    "#3\n",
    "def changeme( mylist ):\n",
    "    #This changes a passed list\n",
    "    mylist = [1,2,3,4];\n",
    "    print (\"Values inside the function: \", mylist)\n",
    "    return\n",
    "mylist = [10,20,30];\n",
    "changeme( mylist );\n",
    "print (\"Values outside the function: \", mylist)"
   ]
  },
  {
   "cell_type": "code",
   "execution_count": 7,
   "id": "eaa8f50b-dbc7-475f-a7b8-23512c63ecd7",
   "metadata": {},
   "outputs": [
    {
     "name": "stdout",
     "output_type": "stream",
     "text": [
      "<class 'str'>\n"
     ]
    }
   ],
   "source": [
    "#4\n",
    "def printme( str ):\n",
    "    #This prints a passed string\n",
    "    print (str);\n",
    "    return;\n",
    "printme(str);"
   ]
  },
  {
   "cell_type": "code",
   "execution_count": 8,
   "id": "87bdeb74-0256-4ba7-8f1c-b21eff96564e",
   "metadata": {},
   "outputs": [
    {
     "name": "stdout",
     "output_type": "stream",
     "text": [
      "Name:  miki\n",
      "Age:  50\n"
     ]
    }
   ],
   "source": [
    "#5\n",
    "def printinfo( name, age ):\n",
    "    #Test function\n",
    "    print (\"Name: \", name);\n",
    "    print (\"Age: \", age);\n",
    "    return;\n",
    "printinfo( age=50, name=\"miki\" );\n"
   ]
  },
  {
   "cell_type": "code",
   "execution_count": 9,
   "id": "91a74e73-067f-4b63-a27b-fb5967e77841",
   "metadata": {},
   "outputs": [
    {
     "name": "stdout",
     "output_type": "stream",
     "text": [
      "Name:  miki\n",
      "Age:  50\n",
      "Name:  miki\n",
      "Age:  35\n"
     ]
    }
   ],
   "source": [
    "#6\n",
    "def printinfo( name, age = 35 ):\n",
    "    #Test function\n",
    "    print (\"Name: \", name);\n",
    "    print (\"Age: \", age);\n",
    "    return;\n",
    "printinfo( age=50, name=\"miki\" );\n",
    "printinfo( name=\"miki\" );\n"
   ]
  },
  {
   "cell_type": "code",
   "execution_count": 11,
   "id": "205c3019-99e3-4ca0-b0c4-f3035e646197",
   "metadata": {},
   "outputs": [
    {
     "name": "stdout",
     "output_type": "stream",
     "text": [
      "Output is: \n",
      "10\n",
      "Output is: \n",
      "70\n",
      "60\n"
     ]
    }
   ],
   "source": [
    "#7\n",
    "def printinfo( argl, *vartuple ):\n",
    "    #This is test\n",
    "    print (\"Output is: \")\n",
    "    print (argl)\n",
    "    for var in vartuple:\n",
    "        print (var)\n",
    "        return;\n",
    "printinfo( 10 );\n",
    "printinfo( 70,60, 50 );"
   ]
  },
  {
   "cell_type": "code",
   "execution_count": 13,
   "id": "127f27e4-ed56-410b-aeee-8a727a3389bd",
   "metadata": {},
   "outputs": [
    {
     "name": "stdout",
     "output_type": "stream",
     "text": [
      "Inside the fumction total :  30\n"
     ]
    },
    {
     "ename": "NameError",
     "evalue": "name 'total' is not defined",
     "output_type": "error",
     "traceback": [
      "\u001b[0;31m---------------------------------------------------------------------------\u001b[0m",
      "\u001b[0;31mNameError\u001b[0m                                 Traceback (most recent call last)",
      "\u001b[0;32m/var/folders/rf/fjqrvbqn5vsc5zz3hbhvn02h0000gq/T/ipykernel_91858/287752021.py\u001b[0m in \u001b[0;36m<module>\u001b[0;34m\u001b[0m\n\u001b[1;32m      8\u001b[0m \u001b[0;31m# Now you can call sum function\u001b[0m\u001b[0;34m\u001b[0m\u001b[0;34m\u001b[0m\u001b[0m\n\u001b[1;32m      9\u001b[0m \u001b[0msum\u001b[0m\u001b[0;34m(\u001b[0m \u001b[0;36m10\u001b[0m\u001b[0;34m,\u001b[0m\u001b[0;36m20\u001b[0m \u001b[0;34m)\u001b[0m\u001b[0;34m;\u001b[0m\u001b[0;34m\u001b[0m\u001b[0;34m\u001b[0m\u001b[0m\n\u001b[0;32m---> 10\u001b[0;31m \u001b[0mprint\u001b[0m \u001b[0;34m(\u001b[0m\u001b[0;34m\"Outside the function global total : \"\u001b[0m\u001b[0;34m,\u001b[0m \u001b[0mtotal\u001b[0m\u001b[0;34m)\u001b[0m\u001b[0;34m\u001b[0m\u001b[0;34m\u001b[0m\u001b[0m\n\u001b[0m",
      "\u001b[0;31mNameError\u001b[0m: name 'total' is not defined"
     ]
    }
   ],
   "source": [
    "#8\n",
    "TOTAL = 50; # This is a global variable\n",
    "def sum( arg1, arg2 ):\n",
    "    # Add both parameters\n",
    "    total = arg1 + arg2;\n",
    "    print (\"Inside the fumction total : \", total)\n",
    "    return total;\n",
    "# Now you can call sum function\n",
    "sum( 10,20 );\n",
    "print (\"Outside the function global total : \", total)\n"
   ]
  },
  {
   "cell_type": "code",
   "execution_count": 14,
   "id": "7845ca10-a4f0-40bb-90b4-92a8106106ee",
   "metadata": {},
   "outputs": [
    {
     "name": "stdout",
     "output_type": "stream",
     "text": [
      "Lawal Edward Tolu Tina\n",
      "Mary\n"
     ]
    }
   ],
   "source": [
    "#9\n",
    "def swap (x, y):\n",
    "    global a\n",
    "    a = \"Lawal\"\n",
    "    x,y = y,x\n",
    "    b = \"Chris\"\n",
    "    b = \"Edward\"\n",
    "    c = \"Lola\"\n",
    "    print(a,b,x,y)\n",
    "    a = \"Mary\"\n",
    "swap(\"Tina\",\"Tolu\")\n",
    "print (a)\n",
    "    "
   ]
  },
  {
   "cell_type": "code",
   "execution_count": null,
   "id": "2a4c2b41-adca-4d23-951e-3fb0d6b30b3b",
   "metadata": {},
   "outputs": [
    {
     "name": "stderr",
     "output_type": "stream",
     "text": [
      "Exception in Tkinter callback\n",
      "Traceback (most recent call last):\n",
      "  File \"/Users/ugochukwu/opt/anaconda3/lib/python3.9/tkinter/__init__.py\", line 1892, in __call__\n",
      "    return self.func(*args)\n",
      "  File \"/var/folders/rf/fjqrvbqn5vsc5zz3hbhvn02h0000gq/T/ipykernel_91858/1582053602.py\", line 9, in button_click\n",
      "    msgbox.showinfo(\"Info\", \"Welcome to COS102 GUI App!\\n\")\n",
      "NameError: name 'msgbox' is not defined\n",
      "Exception in Tkinter callback\n",
      "Traceback (most recent call last):\n",
      "  File \"/Users/ugochukwu/opt/anaconda3/lib/python3.9/tkinter/__init__.py\", line 1892, in __call__\n",
      "    return self.func(*args)\n",
      "  File \"/var/folders/rf/fjqrvbqn5vsc5zz3hbhvn02h0000gq/T/ipykernel_91858/1582053602.py\", line 9, in button_click\n",
      "    msgbox.showinfo(\"Info\", \"Welcome to COS102 GUI App!\\n\")\n",
      "NameError: name 'msgbox' is not defined\n",
      "Exception in Tkinter callback\n",
      "Traceback (most recent call last):\n",
      "  File \"/Users/ugochukwu/opt/anaconda3/lib/python3.9/tkinter/__init__.py\", line 1892, in __call__\n",
      "    return self.func(*args)\n",
      "  File \"/var/folders/rf/fjqrvbqn5vsc5zz3hbhvn02h0000gq/T/ipykernel_91858/1582053602.py\", line 9, in button_click\n",
      "    msgbox.showinfo(\"Info\", \"Welcome to COS102 GUI App!\\n\")\n",
      "NameError: name 'msgbox' is not defined\n",
      "Exception in Tkinter callback\n",
      "Traceback (most recent call last):\n",
      "  File \"/Users/ugochukwu/opt/anaconda3/lib/python3.9/tkinter/__init__.py\", line 1892, in __call__\n",
      "    return self.func(*args)\n",
      "  File \"/var/folders/rf/fjqrvbqn5vsc5zz3hbhvn02h0000gq/T/ipykernel_91858/1582053602.py\", line 9, in button_click\n",
      "    msgbox.showinfo(\"Info\", \"Welcome to COS102 GUI App!\\n\")\n",
      "NameError: name 'msgbox' is not defined\n",
      "Exception in Tkinter callback\n",
      "Traceback (most recent call last):\n",
      "  File \"/Users/ugochukwu/opt/anaconda3/lib/python3.9/tkinter/__init__.py\", line 1892, in __call__\n",
      "    return self.func(*args)\n",
      "  File \"/var/folders/rf/fjqrvbqn5vsc5zz3hbhvn02h0000gq/T/ipykernel_91858/1582053602.py\", line 9, in button_click\n",
      "    msgbox.showinfo(\"Info\", \"Welcome to COS102 GUI App!\\n\")\n",
      "NameError: name 'msgbox' is not defined\n",
      "Exception in Tkinter callback\n",
      "Traceback (most recent call last):\n",
      "  File \"/Users/ugochukwu/opt/anaconda3/lib/python3.9/tkinter/__init__.py\", line 1892, in __call__\n",
      "    return self.func(*args)\n",
      "  File \"/var/folders/rf/fjqrvbqn5vsc5zz3hbhvn02h0000gq/T/ipykernel_91858/1582053602.py\", line 9, in button_click\n",
      "    msgbox.showinfo(\"Info\", \"Welcome to COS102 GUI App!\\n\")\n",
      "NameError: name 'msgbox' is not defined\n",
      "Exception in Tkinter callback\n",
      "Traceback (most recent call last):\n",
      "  File \"/Users/ugochukwu/opt/anaconda3/lib/python3.9/tkinter/__init__.py\", line 1892, in __call__\n",
      "    return self.func(*args)\n",
      "  File \"/var/folders/rf/fjqrvbqn5vsc5zz3hbhvn02h0000gq/T/ipykernel_91858/1582053602.py\", line 9, in button_click\n",
      "    msgbox.showinfo(\"Info\", \"Welcome to COS102 GUI App!\\n\")\n",
      "NameError: name 'msgbox' is not defined\n",
      "Exception in Tkinter callback\n",
      "Traceback (most recent call last):\n",
      "  File \"/Users/ugochukwu/opt/anaconda3/lib/python3.9/tkinter/__init__.py\", line 1892, in __call__\n",
      "    return self.func(*args)\n",
      "  File \"/var/folders/rf/fjqrvbqn5vsc5zz3hbhvn02h0000gq/T/ipykernel_91858/1582053602.py\", line 9, in button_click\n",
      "    msgbox.showinfo(\"Info\", \"Welcome to COS102 GUI App!\\n\")\n",
      "NameError: name 'msgbox' is not defined\n",
      "Exception in Tkinter callback\n",
      "Traceback (most recent call last):\n",
      "  File \"/Users/ugochukwu/opt/anaconda3/lib/python3.9/tkinter/__init__.py\", line 1892, in __call__\n",
      "    return self.func(*args)\n",
      "  File \"/var/folders/rf/fjqrvbqn5vsc5zz3hbhvn02h0000gq/T/ipykernel_91858/1582053602.py\", line 9, in button_click\n",
      "    msgbox.showinfo(\"Info\", \"Welcome to COS102 GUI App!\\n\")\n",
      "NameError: name 'msgbox' is not defined\n"
     ]
    }
   ],
   "source": [
    "#10\n",
    "\n",
    "import tkinter as tk \n",
    "# Handling button click event\n",
    "def button_click():\n",
    "    #print(\"Button Clicked!\")\n",
    "    \n",
    "    # Show on information message box\n",
    "    msgbox.showinfo(\"Info\", \"Welcome to COS102 GUI App!\\n\")\n",
    "    \n",
    "    #Ask for user confirmation\n",
    "    result = msgbox.askyesno(\"Confirmation\", \"Do you want to continue?\")\n",
    "    \n",
    "# Create the main window\n",
    "root = tk.Tk()\n",
    "root.title(\"Home page\")\n",
    "root.geometry(\"300x100\")\n",
    "\n",
    "# Add a label widget\n",
    "label = tk.Label(root, text=\"Hello friend \\n\")\n",
    "label.pack()\n",
    "\n",
    "#Add a button widget\n",
    "button = tk.Button(root, text=\"Click Me|\", command=button_click)\n",
    "button.pack()\n",
    "\n",
    "#Styling the button widget\n",
    "button.config(fg=\"red\", bg=\"yellow\")\n",
    "\n",
    "# Start the event loop\n",
    "root.mainloop()"
   ]
  },
  {
   "cell_type": "code",
   "execution_count": null,
   "id": "3a8d2da4-2d28-4d19-811d-6b3e00a164b6",
   "metadata": {},
   "outputs": [],
   "source": [
    "#11\n",
    "\n",
    "import tkinter as tk\n",
    "from tkinker import messagebox\n",
    "from PIL import Image, ImageTk\n",
    "\n",
    "def welcomeMessage(username)\n",
    "    # Create a Tkinter window\n",
    "    window = tk.Toplevel(root)\n",
    "    window.title(\"Admin Box\")\n",
    "    window.geometry(\"500x200\")\n",
    "    \n",
    "    label_1 = tk.label9window, text=f\"Welcome {username}\\n)\n",
    "    label_1.pack()\n",
    "    label_2 = tk.label(window, text=\"This python GUI with Tkinter\")\n",
    "    label_2.pack()\n",
    "    \n",
    "    \n",
    "    # Run the tkinter event loop\n",
    "    root.mainloop()\n",
    "    \n",
    "def submit():\n",
    "    username = username_entry.get()\n",
    "    password = password_entry.get()\n",
    "    \n",
    "    if username == \"Mary\" and password == \"cos102\":\n",
    "        welcomeMessage(username)\n",
    "    else:\n",
    "        messagebox.showerror(\"Login\", \"Invalid username or password\")\n",
    "        \n",
    "# create main window\n",
    "root = tk.Tk()\n",
    "root.title(\"Login form\")\n",
    "root.geometry(\"500x200\")\n",
    "\n",
    "\n",
    "#Create username label and entry\n",
    "username_label = tk.label(root, text=\"Username:\")\n",
    "username_label.pack()\n",
    "username_entry = tk.entry(root)\n",
    "username_entry.pack()\n",
    "\n",
    "# Create password label ad entry\n",
    "password_label = tk.label(root, text=\"Password:\")\n",
    "password_label.pack()\n",
    "password_entry = tk.Entry(root, show=\"*\")\n",
    "password_entry.pack()\n",
    "\n",
    "# Create submit button\n",
    "submit_button = tk.Button(root, text=\"Submit\", command=submit)\n",
    "Submit_button.pack()\n",
    "\n",
    "# Run the main event loop\n",
    "root.mainloop()"
   ]
  },
  {
   "cell_type": "code",
   "execution_count": null,
   "id": "92147553-024d-4797-a9e9-af0746ee21c7",
   "metadata": {},
   "outputs": [],
   "source": []
  }
 ],
 "metadata": {
  "kernelspec": {
   "display_name": "Python 3 (ipykernel)",
   "language": "python",
   "name": "python3"
  },
  "language_info": {
   "codemirror_mode": {
    "name": "ipython",
    "version": 3
   },
   "file_extension": ".py",
   "mimetype": "text/x-python",
   "name": "python",
   "nbconvert_exporter": "python",
   "pygments_lexer": "ipython3",
   "version": "3.9.7"
  }
 },
 "nbformat": 4,
 "nbformat_minor": 5
}
