{
 "cells": [
  {
   "cell_type": "code",
   "execution_count": 4,
   "id": "3d8ae34f-4249-43b0-ac6f-22a7b7a760b0",
   "metadata": {},
   "outputs": [
    {
     "name": "stdin",
     "output_type": "stream",
     "text": [
      "What is your principal 2\n",
      "What is your rate 3\n",
      "What is your time in years 2\n"
     ]
    },
    {
     "name": "stdout",
     "output_type": "stream",
     "text": [
      "2.12\n"
     ]
    }
   ],
   "source": [
    "# simple interest\n",
    "p = input('What is your principal')\n",
    "p = int(p)\n",
    "r = input('What is your rate')\n",
    "r = int(r)\n",
    "t = input('What is your time in years')\n",
    "t = int(t)\n",
    "\n",
    "si = (p*r*t) / 100\n",
    "a = p + si\n",
    "print(a)"
   ]
  },
  {
   "cell_type": "code",
   "execution_count": 5,
   "id": "8f3f149c-00d7-4b5a-9406-4f6b9206a6e2",
   "metadata": {},
   "outputs": [
    {
     "name": "stdin",
     "output_type": "stream",
     "text": [
      "What is your principal 2\n",
      "What is your rate 3\n",
      "What is your time in years 2\n",
      "What is your n 5\n"
     ]
    },
    {
     "name": "stdout",
     "output_type": "stream",
     "text": [
      "219.90232555520012\n"
     ]
    }
   ],
   "source": [
    "# compound interest\n",
    "p = input('What is your principal')\n",
    "p = int(p)\n",
    "r = input('What is your rate')\n",
    "r = int(r)\n",
    "t = input('What is your time in years')\n",
    "t = int(t)\n",
    "n = input('What is your n')\n",
    "n =int(n)\n",
    "\n",
    "a = p*(1+(r/n))**(n*t)\n",
    "print(a)"
   ]
  },
  {
   "cell_type": "code",
   "execution_count": 6,
   "id": "b2995191-9231-42f5-a4af-feda48b70b01",
   "metadata": {},
   "outputs": [
    {
     "name": "stdin",
     "output_type": "stream",
     "text": [
      "What is your principal 1\n",
      "What is your rate 2\n",
      "What is your time in years 2\n",
      "What is your n 2\n",
      "What is your m 2\n"
     ]
    },
    {
     "name": "stdout",
     "output_type": "stream",
     "text": [
      "60.0\n"
     ]
    }
   ],
   "source": [
    "# annuity plan\n",
    "p = input('What is your principal')\n",
    "p = int(p)\n",
    "r = input('What is your rate')\n",
    "r = int(r)\n",
    "t = input('What is your time in years')\n",
    "t = int(t)\n",
    "n = input('What is your n')\n",
    "n = int(n)\n",
    "m = input('What is your m')\n",
    "m = int(m)\n",
    "\n",
    "a = p*m*t * (((1 + (r/n))**(n*t) - 1) / (r/n))\n",
    "print(a)"
   ]
  },
  {
   "cell_type": "code",
   "execution_count": null,
   "id": "9a59db70-8ed0-47be-ae17-c7684a4d9703",
   "metadata": {},
   "outputs": [],
   "source": []
  }
 ],
 "metadata": {
  "kernelspec": {
   "display_name": "Python 3 (ipykernel)",
   "language": "python",
   "name": "python3"
  },
  "language_info": {
   "codemirror_mode": {
    "name": "ipython",
    "version": 3
   },
   "file_extension": ".py",
   "mimetype": "text/x-python",
   "name": "python",
   "nbconvert_exporter": "python",
   "pygments_lexer": "ipython3",
   "version": "3.9.7"
  }
 },
 "nbformat": 4,
 "nbformat_minor": 5
}
